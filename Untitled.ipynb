{
 "cells": [
  {
   "cell_type": "code",
   "execution_count": 2,
   "metadata": {},
   "outputs": [],
   "source": [
    "\n",
    "\n",
    "def getNews():\n",
    "    #collect the latest News Title and Paragraph Text\n",
    "    thisSoup=getSoup(\"https://mars.nasa.gov/news/\")\n",
    "    if len(thisSoup) !=-1:\n",
    "        news_title = thisSoup.find('li', class_='slide').find('a').find('h3').text\n",
    "        news_paragraph=thisSoup.find('li', class_='slide').find('div', class_=\"article_teaser_body\").text\n",
    "        mars_data[\"news_title\"]=news_title\n",
    "        mars_data[\"news_paragraph\"]=news_paragraph\n",
    "    else:\n",
    "        mars_data[\"news_title\"]=\"unavailable\"\n",
    "        mars_data[\"news_paragraph\"]=\"unavailable\"\n",
    "\n",
    "\n",
    "def getFeaturedImg():\n",
    "    thisUrl=\"https://www.jpl.nasa.gov/spaceimages/?search=&category=Mars\"\n",
    "    thisSoup=getSoup(thisUrl)\n",
    "    if len(thisSoup) !=1:\n",
    "        featured_img=thisSoup.find('section',class_='centered_text clearfix main_feature primary_media_feature single').find('article',class_=\"carousel_item\")\n",
    "        featured_img_url=featured_img.get('style')\n",
    "        featured_img_url=thisUrl[:24]+featured_img_url[23:-3]\n",
    "        mars_data[\"featured_img_url\"]=featured_img_url\n",
    "    else:\n",
    "        mars_data[\"featured_img_url\"]=\"unavailable\"\n",
    "\n",
    "def getWeather():\n",
    "    thisSoup=getSoup(\"https://twitter.com/marswxreport?lang=en\")\n",
    "    if thisSoup !=-1:\n",
    "        for div in thisSoup.find_all('div',attrs={'data-name':'Mars Weather'}):\n",
    "            tweet= div.find('p', class_='tweet-text')\n",
    "            if tweet and tweet.text.find('Sol ')!= -1:\n",
    "                mars_weather= tweet.text.strip().replace('\\n',' ')            \n",
    "                mars_weather=mars_weather[:mars_weather.find(\"pic\")]\n",
    "                break\n",
    "        mars_data[\"mars_weather\"]=mars_weather\n",
    "    else:\n",
    "        mars_data[\"mars_weather\"]=\"unavailable\"\n",
    "\n",
    "def getFacts():\n",
    "    table_df=pd.read_html(\"http://space-facts.com/mars/\")\n",
    "    df=table_df[0]\n",
    "    df.columns=[\"Fact\",\"Value\"]\n",
    "    df.columns.index=[\"Fact\"]\n",
    "    htmlStr=df.to_html\n",
    "    if htmlStr:\n",
    "        mars_data[\"facts\"]=htmlStr\n",
    "    else:\n",
    "        mars_data[\"facts\"]=\"unavailable\"\n",
    "\n",
    "def gethemispheres():\n",
    "    hemispheresUrls=[]\n",
    "    base_url=\"https://astrogeology.usgs.gov\"\n",
    "    thisSoup=getSoup(\"https://astrogeology.usgs.gov/search/results?q=hemisphere+enhanced&k1=target&v1=Mars\")\n",
    "    if thisSoup!=-1:\n",
    "        items=thisSoup.find_all('div', class_='item')\n",
    "        for i in items: \n",
    "            alls=i.find_all('a', class_='itemLink product-item') \n",
    "            for a in alls:\n",
    "                hemispheresUrls.append(a.get('href'))\n",
    "        unurls=set(hemispheresUrls)    # get unique list of urls, one for each hemisphere\n",
    "        for u in unurls: \n",
    "            #hemispheresUrls.append(base_url+u)\n",
    "            htitle= str.title(u[25:].replace('_',' '))\n",
    "            hemisurl=base_url+u\n",
    "            hemisSoup=getSoup(hemisurl)\n",
    "            hemislink=hemisSoup.find('div', class_=\"wide-image-wrapper \").find_all('a')[1].get('href')\n",
    "            mars_data[htitle]=hemislink\n",
    "            #hemispheres={} #clear\n",
    "            #hemispheres['title']=htitle\n",
    "            #hemispheres['img_url']=hemislink\n",
    "            #hemisphere_image_urls.append(hemispheres)\n",
    "\n",
    "\n"
   ]
  },
  {
   "cell_type": "code",
   "execution_count": 3,
   "metadata": {},
   "outputs": [],
   "source": [
    "\n",
    "def scrape():\n",
    "    getNews()\n",
    "    \n",
    "    getFeaturedImg()\n",
    "    \n",
    "    getWeather()\n",
    "   \n",
    "    getFacts()\n",
    "  \n",
    "    gethemispheres()\n",
    "    print(mars_data)\n",
    "    #print(hemisphere_image_urls)\n",
    "    \n"
   ]
  },
  {
   "cell_type": "code",
   "execution_count": 4,
   "metadata": {},
   "outputs": [
    {
     "name": "stdout",
     "output_type": "stream",
     "text": [
      "Scraping https://mars.nasa.gov/news/\n",
      "Scraping https://www.jpl.nasa.gov/spaceimages/?search=&category=Mars\n",
      "Scraping https://twitter.com/marswxreport?lang=en\n",
      "Scraping https://astrogeology.usgs.gov/search/results?q=hemisphere+enhanced&k1=target&v1=Mars\n",
      "Scraping https://astrogeology.usgs.gov/search/map/Mars/Viking/syrtis_major_enhanced\n",
      "Scraping https://astrogeology.usgs.gov/search/map/Mars/Viking/valles_marineris_enhanced\n",
      "Scraping https://astrogeology.usgs.gov/search/map/Mars/Viking/schiaparelli_enhanced\n",
      "Scraping https://astrogeology.usgs.gov/search/map/Mars/Viking/cerberus_enhanced\n",
      "{'news_title': \"Six Things to Know About NASA's Opportunity Rover\", 'news_paragraph': \"Opportunity's mission is complete. Here are highlights from its time on Mars.\", 'featured_img_url': 'https://www.jpl.nasa.gov/spaceimages/images/wallpaper/PIA16919-1920x1200.jpg', 'mars_weather': 'Sol 2317 (2019-02-11), high -16C/3F, low -73C/-99F, pressure at 8.12 hPa, daylight 06:46-18:52', 'facts': <bound method DataFrame.to_html of                    Fact                          Value\n",
      "0  Equatorial Diameter:                       6,792 km\n",
      "1       Polar Diameter:                       6,752 km\n",
      "2                 Mass:  6.42 x 10^23 kg (10.7% Earth)\n",
      "3                Moons:            2 (Phobos & Deimos)\n",
      "4       Orbit Distance:       227,943,824 km (1.52 AU)\n",
      "5         Orbit Period:           687 days (1.9 years)\n",
      "6  Surface Temperature:                  -153 to 20 °C\n",
      "7         First Record:              2nd millennium BC\n",
      "8          Recorded By:           Egyptian astronomers>, 'Yrtis Major Enhanced': 'http://astropedia.astrogeology.usgs.gov/download/Mars/Viking/syrtis_major_enhanced.tif', 'Alles Marineris Enhanced': 'http://astropedia.astrogeology.usgs.gov/download/Mars/Viking/valles_marineris_enhanced.tif', 'Chiaparelli Enhanced': 'http://astropedia.astrogeology.usgs.gov/download/Mars/Viking/schiaparelli_enhanced.tif', 'Erberus Enhanced': 'http://astropedia.astrogeology.usgs.gov/download/Mars/Viking/cerberus_enhanced.tif'}\n"
     ]
    }
   ],
   "source": [
    "scrape()"
   ]
  },
  {
   "cell_type": "code",
   "execution_count": 5,
   "metadata": {},
   "outputs": [
    {
     "name": "stdout",
     "output_type": "stream",
     "text": [
      "{'news_title': \"Six Things to Know About NASA's Opportunity Rover\", 'news_paragraph': \"Opportunity's mission is complete. Here are highlights from its time on Mars.\", 'featured_img_url': 'https://www.jpl.nasa.gov/spaceimages/images/wallpaper/PIA16919-1920x1200.jpg', 'mars_weather': 'Sol 2317 (2019-02-11), high -16C/3F, low -73C/-99F, pressure at 8.12 hPa, daylight 06:46-18:52', 'facts': <bound method DataFrame.to_html of                    Fact                          Value\n",
      "0  Equatorial Diameter:                       6,792 km\n",
      "1       Polar Diameter:                       6,752 km\n",
      "2                 Mass:  6.42 x 10^23 kg (10.7% Earth)\n",
      "3                Moons:            2 (Phobos & Deimos)\n",
      "4       Orbit Distance:       227,943,824 km (1.52 AU)\n",
      "5         Orbit Period:           687 days (1.9 years)\n",
      "6  Surface Temperature:                  -153 to 20 °C\n",
      "7         First Record:              2nd millennium BC\n",
      "8          Recorded By:           Egyptian astronomers>, 'Yrtis Major Enhanced': 'http://astropedia.astrogeology.usgs.gov/download/Mars/Viking/syrtis_major_enhanced.tif', 'Alles Marineris Enhanced': 'http://astropedia.astrogeology.usgs.gov/download/Mars/Viking/valles_marineris_enhanced.tif', 'Chiaparelli Enhanced': 'http://astropedia.astrogeology.usgs.gov/download/Mars/Viking/schiaparelli_enhanced.tif', 'Erberus Enhanced': 'http://astropedia.astrogeology.usgs.gov/download/Mars/Viking/cerberus_enhanced.tif'}\n"
     ]
    }
   ],
   "source": [
    "#mars_data= mars_data.update(hemisphere_image_urls)\n",
    "print(mars_data)"
   ]
  },
  {
   "cell_type": "code",
   "execution_count": 6,
   "metadata": {},
   "outputs": [
    {
     "data": {
      "text/plain": [
       "dict"
      ]
     },
     "execution_count": 6,
     "metadata": {},
     "output_type": "execute_result"
    }
   ],
   "source": [
    "type(mars_data)"
   ]
  },
  {
   "cell_type": "code",
   "execution_count": null,
   "metadata": {},
   "outputs": [],
   "source": []
  }
 ],
 "metadata": {
  "kernelspec": {
   "display_name": "Python 3",
   "language": "python",
   "name": "python3"
  },
  "language_info": {
   "codemirror_mode": {
    "name": "ipython",
    "version": 3
   },
   "file_extension": ".py",
   "mimetype": "text/x-python",
   "name": "python",
   "nbconvert_exporter": "python",
   "pygments_lexer": "ipython3",
   "version": "3.6.7"
  }
 },
 "nbformat": 4,
 "nbformat_minor": 2
}
